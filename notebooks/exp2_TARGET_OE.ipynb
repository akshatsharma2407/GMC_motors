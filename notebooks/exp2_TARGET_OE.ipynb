{
 "cells": [
  {
   "cell_type": "code",
   "execution_count": 63,
   "metadata": {},
   "outputs": [],
   "source": [
    "import numpy as np\n",
    "import pandas as pd\n",
    "import mlflow\n",
    "import dagshub"
   ]
  },
  {
   "cell_type": "code",
   "execution_count": 64,
   "metadata": {},
   "outputs": [
    {
     "data": {
      "text/html": [
       "<pre style=\"white-space:pre;overflow-x:auto;line-height:normal;font-family:Menlo,'DejaVu Sans Mono',consolas,'Courier New',monospace\">Initialized MLflow to track repo <span style=\"color: #008000; text-decoration-color: #008000\">\"akshatsharma2407/GMC_motors\"</span>\n",
       "</pre>\n"
      ],
      "text/plain": [
       "Initialized MLflow to track repo \u001b[32m\"akshatsharma2407/GMC_motors\"\u001b[0m\n"
      ]
     },
     "metadata": {},
     "output_type": "display_data"
    },
    {
     "data": {
      "text/html": [
       "<pre style=\"white-space:pre;overflow-x:auto;line-height:normal;font-family:Menlo,'DejaVu Sans Mono',consolas,'Courier New',monospace\">Repository akshatsharma2407/GMC_motors initialized!\n",
       "</pre>\n"
      ],
      "text/plain": [
       "Repository akshatsharma2407/GMC_motors initialized!\n"
      ]
     },
     "metadata": {},
     "output_type": "display_data"
    }
   ],
   "source": [
    "dagshub.init(repo_owner='akshatsharma2407', repo_name='GMC_motors', mlflow=True)\n",
    "\n",
    "mlflow.set_tracking_uri('https://dagshub.com/akshatsharma2407/GMC_motors.mlflow')"
   ]
  },
  {
   "cell_type": "code",
   "execution_count": 65,
   "metadata": {},
   "outputs": [
    {
     "name": "stderr",
     "output_type": "stream",
     "text": [
      "2025/03/09 20:22:05 INFO mlflow.tracking.fluent: Autologging successfully enabled for sklearn.\n",
      "2025/03/09 20:22:05 INFO mlflow.tracking.fluent: Autologging successfully enabled for statsmodels.\n",
      "2025/03/09 20:22:05 INFO mlflow.tracking.fluent: Autologging successfully enabled for xgboost.\n"
     ]
    },
    {
     "data": {
      "text/plain": [
       "<ActiveRun: >"
      ]
     },
     "execution_count": 65,
     "metadata": {},
     "output_type": "execute_result"
    }
   ],
   "source": [
    "mlflow.autolog()\n",
    "mlflow.set_experiment(experiment_name='GMC_exp_OE_TARGET')\n",
    "mlflow.start_run()"
   ]
  },
  {
   "cell_type": "code",
   "execution_count": 66,
   "metadata": {},
   "outputs": [],
   "source": [
    "df = pd.read_csv('C:/Users/aksha/Downloads/CLEANED_GMC_DIESEL.csv')"
   ]
  },
  {
   "cell_type": "code",
   "execution_count": 67,
   "metadata": {},
   "outputs": [],
   "source": [
    "df.drop(columns=['PRICE RANGE','MAKE ORIGIN','PARENT COMPANY','IMAGE','BRAND'],inplace=True)"
   ]
  },
  {
   "cell_type": "code",
   "execution_count": 68,
   "metadata": {},
   "outputs": [],
   "source": [
    "df['AGE OF CAR'] = df['AGE OF CAR'].astype(str)\n",
    "df['MODEL'] = df['MODEL'].astype(str)"
   ]
  },
  {
   "cell_type": "code",
   "execution_count": 69,
   "metadata": {},
   "outputs": [],
   "source": [
    "df.dropna(inplace=True)"
   ]
  },
  {
   "cell_type": "code",
   "execution_count": 70,
   "metadata": {},
   "outputs": [],
   "source": [
    "df.drop_duplicates(inplace=True)"
   ]
  },
  {
   "cell_type": "code",
   "execution_count": 71,
   "metadata": {},
   "outputs": [],
   "source": [
    "from sklearn.preprocessing import OneHotEncoder\n",
    "from sklearn.preprocessing import OrdinalEncoder\n",
    "from sklearn.model_selection import train_test_split\n",
    "import category_encoders as ce\n",
    "from sklearn.compose import ColumnTransformer\n",
    "from sklearn.impute import SimpleImputer\n",
    "from sklearn.preprocessing import StandardScaler\n",
    "from sklearn.pipeline import Pipeline\n",
    "from sklearn.linear_model import Lasso\n",
    "from sklearn.linear_model import LinearRegression"
   ]
  },
  {
   "cell_type": "code",
   "execution_count": 72,
   "metadata": {},
   "outputs": [],
   "source": [
    "xtrain,xtest,ytrain,ytest = train_test_split(df.drop(columns=['PRICE($)']),df['PRICE($)'],random_state=42,test_size=0.2)"
   ]
  },
  {
   "cell_type": "code",
   "execution_count": 73,
   "metadata": {},
   "outputs": [],
   "source": [
    "ct1 = ColumnTransformer(\n",
    "    [\n",
    "        ('RatingImputer',SimpleImputer(missing_values=-1,strategy='mean'),['RATING']),\n",
    "        ('OHE',ce.TargetEncoder(verbose=1),['CAR NAME','MODEL/CLASS','DEALER NAME','DEALER LOCATION (CITY)','DEALER LOCATION (STATE)']),\n",
    "        ('OE',OrdinalEncoder(categories=\n",
    "                             [\n",
    "                                 [\"1937\", \"1951\", \"1952\", \"1966\", \"1968\", \"1977\", \"1979\", \"1984\", \"1986\", \"1987\", \n",
    "        \"1988\", \"1989\", \"1996\", \"1998\", \"1999\", \"2000\", \"2001\", \"2002\", \"2003\", \"2004\", \n",
    "        \"2005\", \"2006\", \"2007\", \"2008\", \"2009\", \"2010\", \"2011\", \"2012\", \"2013\", \"2014\", \n",
    "        \"2015\", \"2016\", \"2017\", \"2018\", \"2019\", \"2020\", \"2021\", \"2022\", \"2023\", \"2024\"],\n",
    "       ['Used','GMC Certified','New'],\n",
    "       [\"87\", \"73\", \"72\", \"58\", \"56\", \"47\", \"45\", \"40\", \"38\", \"37\", \"36\", \"35\", \"28\", \n",
    "        \"26\", \"25\", \"24\", \"23\", \"22\", \"21\", \"20\", \"19\", \"18\", \"17\", \"16\", \"15\", \"14\", \n",
    "        \"13\", \"12\", \"11\", \"10\", \"9\", \"8\", \"7\", \"6\", \"5\", \"4\", \"3\", \"2\", \"1\", \"0\"]\n",
    "       ]\n",
    "       ),['MODEL','STOCK TYPE','AGE OF CAR'])\n",
    "    ],\n",
    "    remainder='passthrough'\n",
    ")"
   ]
  },
  {
   "cell_type": "code",
   "execution_count": 74,
   "metadata": {},
   "outputs": [],
   "source": [
    "ct2 = ColumnTransformer(\n",
    "    [\n",
    "        ('stdscaler',StandardScaler(),slice(0,820))\n",
    "    ]\n",
    ")"
   ]
  },
  {
   "cell_type": "code",
   "execution_count": 75,
   "metadata": {},
   "outputs": [],
   "source": [
    "pipe = Pipeline([\n",
    "    ('ct1',ct1),\n",
    "    ('ct2',ct2)\n",
    "])"
   ]
  },
  {
   "cell_type": "code",
   "execution_count": 76,
   "metadata": {},
   "outputs": [
    {
     "name": "stderr",
     "output_type": "stream",
     "text": [
      "2025/03/09 20:22:07 WARNING mlflow.utils.autologging_utils: MLflow autologging encountered a warning: \"c:\\Users\\aksha\\AppData\\Local\\Programs\\Python\\Python312\\Lib\\site-packages\\mlflow\\types\\utils.py:452: UserWarning: Hint: Inferred schema contains integer column(s). Integer columns in Python cannot represent missing values. If your input data contains missing values at inference time, it will be encoded as floats and will cause a schema enforcement error. The best way to avoid this problem is to infer the model schema based on a realistic data sample (training dataset) that includes missing values. Alternatively, you can declare integer columns as doubles (float64) whenever these columns may have missing values. See `Handling Integers With Missing Values <https://www.mlflow.org/docs/latest/models.html#handling-integers-with-missing-values>`_ for more details.\"\n",
      "2025/03/09 20:22:07 WARNING mlflow.utils.autologging_utils: MLflow autologging encountered a warning: \"c:\\Users\\aksha\\AppData\\Local\\Programs\\Python\\Python312\\Lib\\site-packages\\sklearn\\compose\\_column_transformer.py:1667: FutureWarning: \n",
      "The format of the columns of the 'remainder' transformer in ColumnTransformer.transformers_ will change in version 1.7 to match the format of the other transformers.\n",
      "At the moment the remainder columns are stored as indices (of type int). With the same ColumnTransformer configuration, in the future they will be stored as column names (of type str).\n",
      "To use the new behavior now and suppress this warning, use ColumnTransformer(force_int_remainder_cols=False).\n",
      "\"\n",
      "2025/03/09 20:22:08 WARNING mlflow.utils.autologging_utils: MLflow autologging encountered a warning: \"c:\\Users\\aksha\\AppData\\Local\\Programs\\Python\\Python312\\Lib\\site-packages\\mlflow\\types\\utils.py:452: UserWarning: Hint: Inferred schema contains integer column(s). Integer columns in Python cannot represent missing values. If your input data contains missing values at inference time, it will be encoded as floats and will cause a schema enforcement error. The best way to avoid this problem is to infer the model schema based on a realistic data sample (training dataset) that includes missing values. Alternatively, you can declare integer columns as doubles (float64) whenever these columns may have missing values. See `Handling Integers With Missing Values <https://www.mlflow.org/docs/latest/models.html#handling-integers-with-missing-values>`_ for more details.\"\n",
      "2025/03/09 20:22:08 WARNING mlflow.sklearn: Model was missing function: predict. Not logging python_function flavor!\n"
     ]
    },
    {
     "name": "stdout",
     "output_type": "stream",
     "text": [
      "🏃 View run handsome-calf-848 at: https://dagshub.com/akshatsharma2407/GMC_motors.mlflow/#/experiments/3/runs/7cdeaf39891b4ce0b69ea529a82814fa\n",
      "🧪 View experiment at: https://dagshub.com/akshatsharma2407/GMC_motors.mlflow/#/experiments/3\n",
      "🏃 View run redolent-ant-930 at: https://dagshub.com/akshatsharma2407/GMC_motors.mlflow/#/experiments/3/runs/591123d049a14b688bf2ac87b50ddc33\n",
      "🧪 View experiment at: https://dagshub.com/akshatsharma2407/GMC_motors.mlflow/#/experiments/3\n",
      "🏃 View run efficient-smelt-704 at: https://dagshub.com/akshatsharma2407/GMC_motors.mlflow/#/experiments/3/runs/622750b876ec4bdda183616e1f6ea676\n",
      "🧪 View experiment at: https://dagshub.com/akshatsharma2407/GMC_motors.mlflow/#/experiments/3\n"
     ]
    }
   ],
   "source": [
    "pipe.set_output(transform='pandas')\n",
    "xtrain_trans = pipe.fit_transform(xtrain,ytrain)"
   ]
  },
  {
   "cell_type": "code",
   "execution_count": null,
   "metadata": {},
   "outputs": [
    {
     "name": "stderr",
     "output_type": "stream",
     "text": [
      "2025/03/09 20:22:22 WARNING mlflow.utils.autologging_utils: MLflow autologging encountered a warning: \"c:\\Users\\aksha\\AppData\\Local\\Programs\\Python\\Python312\\Lib\\site-packages\\mlflow\\types\\utils.py:452: UserWarning: Hint: Inferred schema contains integer column(s). Integer columns in Python cannot represent missing values. If your input data contains missing values at inference time, it will be encoded as floats and will cause a schema enforcement error. The best way to avoid this problem is to infer the model schema based on a realistic data sample (training dataset) that includes missing values. Alternatively, you can declare integer columns as doubles (float64) whenever these columns may have missing values. See `Handling Integers With Missing Values <https://www.mlflow.org/docs/latest/models.html#handling-integers-with-missing-values>`_ for more details.\"\n"
     ]
    }
   ],
   "source": [
    "xtest_trans = pipe.transform(xtest)"
   ]
  },
  {
   "cell_type": "code",
   "execution_count": null,
   "metadata": {},
   "outputs": [],
   "source": [
    "from sklearn.linear_model import LinearRegression\n",
    "from sklearn.tree import DecisionTreeRegressor\n",
    "from sklearn.svm import SVR\n",
    "from sklearn.ensemble import RandomForestRegressor\n",
    "from sklearn.model_selection import GridSearchCV\n",
    "from sklearn.metrics import mean_absolute_error, mean_squared_error, r2_score"
   ]
  },
  {
   "cell_type": "code",
   "execution_count": 79,
   "metadata": {},
   "outputs": [],
   "source": [
    "param_grids = {\n",
    "    'LinearRegression': {},\n",
    "    'DecisionTreeRegressor': {\n",
    "        'max_depth': [None, 10, 20],\n",
    "        'min_samples_split': [2, 5, 10]\n",
    "    },\n",
    "    'SVR': {\n",
    "        'C': [0.1, 1, 10],\n",
    "        'kernel': ['linear', 'rbf']\n",
    "    },\n",
    "    'RandomForestRegressor': {\n",
    "        'n_estimators': [50, 100, 200],\n",
    "        'max_features': ['auto', 'sqrt']\n",
    "    }\n",
    "}"
   ]
  },
  {
   "cell_type": "code",
   "execution_count": 80,
   "metadata": {},
   "outputs": [],
   "source": [
    "#baseline models\n",
    "models = {\n",
    "    'LinearRegression' : LinearRegression(),\n",
    "    'DecisionTreeRegressor' : DecisionTreeRegressor(),\n",
    "    'SVR' : SVR(),\n",
    "    'RandomForestRegressor' : RandomForestRegressor()\n",
    "}"
   ]
  },
  {
   "cell_type": "code",
   "execution_count": 81,
   "metadata": {},
   "outputs": [
    {
     "name": "stdout",
     "output_type": "stream",
     "text": [
      "training  LinearRegression ....\n",
      "mean squared error 74003180.71016759\n",
      "mean_absolute_error 6648.502032259483\n",
      "r2_score 0.8087998488130238\n",
      "====================\n",
      "\n",
      "\n",
      "\n",
      "\n",
      "training  DecisionTreeRegressor ....\n",
      "mean squared error 63384733.60510302\n",
      "mean_absolute_error 5379.172126098942\n",
      "r2_score 0.8362344627360482\n",
      "====================\n",
      "\n",
      "\n",
      "\n",
      "\n",
      "training  SVR ....\n",
      "mean squared error 375780147.1355449\n",
      "mean_absolute_error 15916.254986756925\n",
      "r2_score 0.02910631332487179\n",
      "====================\n",
      "\n",
      "\n",
      "\n",
      "\n",
      "training  RandomForestRegressor ....\n"
     ]
    },
    {
     "name": "stderr",
     "output_type": "stream",
     "text": [
      "2025/03/09 20:23:45 WARNING mlflow.utils.autologging_utils: Encountered unexpected error during sklearn autologging: The following failures occurred while performing one or more logging operations: [MlflowException('Failed to perform one or more operations on the run with ID 64f43667ca354f81bb0c506f74a90828. Failed operations: [RestException(\"INVALID_PARAMETER_VALUE: Response: {\\'error_code\\': \\'INVALID_PARAMETER_VALUE\\'}\")]')]\n"
     ]
    },
    {
     "name": "stdout",
     "output_type": "stream",
     "text": [
      "mean squared error 47797330.33456283\n",
      "mean_absolute_error 4634.859663829156\n",
      "r2_score 0.876507243356276\n",
      "====================\n",
      "\n",
      "\n",
      "\n",
      "\n"
     ]
    }
   ],
   "source": [
    "for i,j in models.items():\n",
    "    print('training ',i,'....')\n",
    "    j.fit(xtrain_trans,ytrain)\n",
    "    ypred = j.predict(xtest_trans)\n",
    "    print('mean squared error',mean_squared_error(ytest,ypred))\n",
    "    print('mean_absolute_error',mean_absolute_error(ytest,ypred))\n",
    "    print('r2_score',r2_score(ytest,ypred))\n",
    "    print('='*20)\n",
    "\n",
    "    print('\\n\\n\\n')"
   ]
  },
  {
   "cell_type": "code",
   "execution_count": 82,
   "metadata": {},
   "outputs": [
    {
     "name": "stdout",
     "output_type": "stream",
     "text": [
      "training  LinearRegression ....\n",
      "Fitting 5 folds for each of 1 candidates, totalling 5 fits\n"
     ]
    },
    {
     "name": "stderr",
     "output_type": "stream",
     "text": [
      "2025/03/09 20:24:04 INFO mlflow.sklearn.utils: Logging the 5 best runs, no runs will be omitted.\n"
     ]
    },
    {
     "name": "stdout",
     "output_type": "stream",
     "text": [
      "🏃 View run aged-dog-241 at: https://dagshub.com/akshatsharma2407/GMC_motors.mlflow/#/experiments/3/runs/7ac7334537854238b869887c2213d80c\n",
      "🧪 View experiment at: https://dagshub.com/akshatsharma2407/GMC_motors.mlflow/#/experiments/3\n"
     ]
    },
    {
     "name": "stderr",
     "output_type": "stream",
     "text": [
      "2025/03/09 20:24:06 WARNING mlflow.utils.autologging_utils: Encountered unexpected error during sklearn autologging: The following failures occurred while performing one or more logging operations: [MlflowException('Failed to perform one or more operations on the run with ID 64f43667ca354f81bb0c506f74a90828. Failed operations: [RestException(\"INVALID_PARAMETER_VALUE: Response: {\\'error_code\\': \\'INVALID_PARAMETER_VALUE\\'}\")]')]\n"
     ]
    },
    {
     "name": "stdout",
     "output_type": "stream",
     "text": [
      "best params for LinearRegression is :  {}\n",
      "best params for LinearRegression() is :  0.8225787709335352\n",
      "==================== \n",
      "\n",
      "\n",
      "training  DecisionTreeRegressor ....\n",
      "Fitting 5 folds for each of 9 candidates, totalling 45 fits\n"
     ]
    },
    {
     "name": "stderr",
     "output_type": "stream",
     "text": [
      "2025/03/09 20:24:25 INFO mlflow.sklearn.utils: Logging the 5 best runs, 4 runs will be omitted.\n"
     ]
    },
    {
     "name": "stdout",
     "output_type": "stream",
     "text": [
      "🏃 View run enthused-fowl-400 at: https://dagshub.com/akshatsharma2407/GMC_motors.mlflow/#/experiments/3/runs/1832ba39028b4dd68e23e0c402a930e4\n",
      "🧪 View experiment at: https://dagshub.com/akshatsharma2407/GMC_motors.mlflow/#/experiments/3\n",
      "🏃 View run grandiose-swan-383 at: https://dagshub.com/akshatsharma2407/GMC_motors.mlflow/#/experiments/3/runs/0b08ed52feb947d593d3bd5b66bcc721\n",
      "🧪 View experiment at: https://dagshub.com/akshatsharma2407/GMC_motors.mlflow/#/experiments/3\n",
      "🏃 View run painted-wren-834 at: https://dagshub.com/akshatsharma2407/GMC_motors.mlflow/#/experiments/3/runs/9aa205e9337d43a7897110300c2ab97a\n",
      "🧪 View experiment at: https://dagshub.com/akshatsharma2407/GMC_motors.mlflow/#/experiments/3\n",
      "🏃 View run luxuriant-shrike-793 at: https://dagshub.com/akshatsharma2407/GMC_motors.mlflow/#/experiments/3/runs/ccf93dc893714aa4afa4da9ea3cc7b9d\n",
      "🧪 View experiment at: https://dagshub.com/akshatsharma2407/GMC_motors.mlflow/#/experiments/3\n"
     ]
    },
    {
     "name": "stderr",
     "output_type": "stream",
     "text": [
      "2025/03/09 20:24:39 WARNING mlflow.utils.autologging_utils: Encountered unexpected error during sklearn autologging: The following failures occurred while performing one or more logging operations: [MlflowException('Failed to perform one or more operations on the run with ID 64f43667ca354f81bb0c506f74a90828. Failed operations: [RestException(\"INVALID_PARAMETER_VALUE: Response: {\\'error_code\\': \\'INVALID_PARAMETER_VALUE\\'}\")]')]\n"
     ]
    },
    {
     "name": "stdout",
     "output_type": "stream",
     "text": [
      "best params for DecisionTreeRegressor is :  {'max_depth': 10, 'min_samples_split': 10}\n",
      "best params for DecisionTreeRegressor() is :  0.8677228715635309\n",
      "==================== \n",
      "\n",
      "\n",
      "training  SVR ....\n",
      "Fitting 5 folds for each of 6 candidates, totalling 30 fits\n"
     ]
    },
    {
     "name": "stderr",
     "output_type": "stream",
     "text": [
      "2025/03/09 20:25:14 INFO mlflow.sklearn.utils: Logging the 5 best runs, one run will be omitted.\n"
     ]
    },
    {
     "name": "stdout",
     "output_type": "stream",
     "text": [
      "🏃 View run shivering-cod-576 at: https://dagshub.com/akshatsharma2407/GMC_motors.mlflow/#/experiments/3/runs/2aa263199b7c43808e334ec6e073b848\n",
      "🧪 View experiment at: https://dagshub.com/akshatsharma2407/GMC_motors.mlflow/#/experiments/3\n",
      "🏃 View run painted-donkey-991 at: https://dagshub.com/akshatsharma2407/GMC_motors.mlflow/#/experiments/3/runs/fe4763dab2da4042bf282095d4ee96b0\n",
      "🧪 View experiment at: https://dagshub.com/akshatsharma2407/GMC_motors.mlflow/#/experiments/3\n",
      "🏃 View run languid-carp-624 at: https://dagshub.com/akshatsharma2407/GMC_motors.mlflow/#/experiments/3/runs/b14e787e0a9a404c88722c226cfad82a\n",
      "🧪 View experiment at: https://dagshub.com/akshatsharma2407/GMC_motors.mlflow/#/experiments/3\n",
      "🏃 View run rare-ape-734 at: https://dagshub.com/akshatsharma2407/GMC_motors.mlflow/#/experiments/3/runs/05731766013e40b2b60d00aaa6342eb9\n",
      "🧪 View experiment at: https://dagshub.com/akshatsharma2407/GMC_motors.mlflow/#/experiments/3\n"
     ]
    },
    {
     "name": "stderr",
     "output_type": "stream",
     "text": [
      "2025/03/09 20:25:27 WARNING mlflow.utils.autologging_utils: Encountered unexpected error during sklearn autologging: The following failures occurred while performing one or more logging operations: [MlflowException('Failed to perform one or more operations on the run with ID 64f43667ca354f81bb0c506f74a90828. Failed operations: [RestException(\"INVALID_PARAMETER_VALUE: Response: {\\'error_code\\': \\'INVALID_PARAMETER_VALUE\\'}\")]')]\n"
     ]
    },
    {
     "name": "stdout",
     "output_type": "stream",
     "text": [
      "best params for SVR is :  {'C': 10, 'kernel': 'linear'}\n",
      "best params for SVR() is :  0.80440307424129\n",
      "==================== \n",
      "\n",
      "\n",
      "training  RandomForestRegressor ....\n",
      "Fitting 5 folds for each of 6 candidates, totalling 30 fits\n"
     ]
    },
    {
     "name": "stderr",
     "output_type": "stream",
     "text": [
      "c:\\Users\\aksha\\AppData\\Local\\Programs\\Python\\Python312\\Lib\\site-packages\\sklearn\\model_selection\\_validation.py:528: FitFailedWarning: \n",
      "15 fits failed out of a total of 30.\n",
      "The score on these train-test partitions for these parameters will be set to nan.\n",
      "If these failures are not expected, you can try to debug them by setting error_score='raise'.\n",
      "\n",
      "Below are more details about the failures:\n",
      "--------------------------------------------------------------------------------\n",
      "9 fits failed with the following error:\n",
      "Traceback (most recent call last):\n",
      "  File \"c:\\Users\\aksha\\AppData\\Local\\Programs\\Python\\Python312\\Lib\\site-packages\\sklearn\\model_selection\\_validation.py\", line 866, in _fit_and_score\n",
      "    estimator.fit(X_train, y_train, **fit_params)\n",
      "  File \"c:\\Users\\aksha\\AppData\\Local\\Programs\\Python\\Python312\\Lib\\site-packages\\sklearn\\base.py\", line 1382, in wrapper\n",
      "    estimator._validate_params()\n",
      "  File \"c:\\Users\\aksha\\AppData\\Local\\Programs\\Python\\Python312\\Lib\\site-packages\\sklearn\\base.py\", line 436, in _validate_params\n",
      "    validate_parameter_constraints(\n",
      "  File \"c:\\Users\\aksha\\AppData\\Local\\Programs\\Python\\Python312\\Lib\\site-packages\\sklearn\\utils\\_param_validation.py\", line 98, in validate_parameter_constraints\n",
      "    raise InvalidParameterError(\n",
      "sklearn.utils._param_validation.InvalidParameterError: The 'max_features' parameter of RandomForestRegressor must be an int in the range [1, inf), a float in the range (0.0, 1.0], a str among {'log2', 'sqrt'} or None. Got 'auto' instead.\n",
      "\n",
      "--------------------------------------------------------------------------------\n",
      "6 fits failed with the following error:\n",
      "Traceback (most recent call last):\n",
      "  File \"c:\\Users\\aksha\\AppData\\Local\\Programs\\Python\\Python312\\Lib\\site-packages\\sklearn\\model_selection\\_validation.py\", line 866, in _fit_and_score\n",
      "    estimator.fit(X_train, y_train, **fit_params)\n",
      "  File \"c:\\Users\\aksha\\AppData\\Local\\Programs\\Python\\Python312\\Lib\\site-packages\\sklearn\\base.py\", line 1382, in wrapper\n",
      "    estimator._validate_params()\n",
      "  File \"c:\\Users\\aksha\\AppData\\Local\\Programs\\Python\\Python312\\Lib\\site-packages\\sklearn\\base.py\", line 436, in _validate_params\n",
      "    validate_parameter_constraints(\n",
      "  File \"c:\\Users\\aksha\\AppData\\Local\\Programs\\Python\\Python312\\Lib\\site-packages\\sklearn\\utils\\_param_validation.py\", line 98, in validate_parameter_constraints\n",
      "    raise InvalidParameterError(\n",
      "sklearn.utils._param_validation.InvalidParameterError: The 'max_features' parameter of RandomForestRegressor must be an int in the range [1, inf), a float in the range (0.0, 1.0], a str among {'sqrt', 'log2'} or None. Got 'auto' instead.\n",
      "\n",
      "  warnings.warn(some_fits_failed_message, FitFailedWarning)\n",
      "c:\\Users\\aksha\\AppData\\Local\\Programs\\Python\\Python312\\Lib\\site-packages\\sklearn\\model_selection\\_search.py:1108: UserWarning: One or more of the test scores are non-finite: [       nan        nan        nan 0.88258882 0.88242932 0.88271134]\n",
      "  warnings.warn(\n",
      "2025/03/09 20:31:22 INFO mlflow.sklearn.utils: Logging the 5 best runs, one run will be omitted.\n"
     ]
    },
    {
     "name": "stdout",
     "output_type": "stream",
     "text": [
      "🏃 View run caring-calf-244 at: https://dagshub.com/akshatsharma2407/GMC_motors.mlflow/#/experiments/3/runs/29b42aa791344d53a0c8eef2fa79d801\n",
      "🧪 View experiment at: https://dagshub.com/akshatsharma2407/GMC_motors.mlflow/#/experiments/3\n",
      "🏃 View run adorable-mare-853 at: https://dagshub.com/akshatsharma2407/GMC_motors.mlflow/#/experiments/3/runs/0522da201b3041d8823868f6acaabf71\n",
      "🧪 View experiment at: https://dagshub.com/akshatsharma2407/GMC_motors.mlflow/#/experiments/3\n",
      "🏃 View run wistful-vole-7 at: https://dagshub.com/akshatsharma2407/GMC_motors.mlflow/#/experiments/3/runs/ef84cdbec7ee43ed965c7f61ebe407d2\n",
      "🧪 View experiment at: https://dagshub.com/akshatsharma2407/GMC_motors.mlflow/#/experiments/3\n",
      "🏃 View run big-goat-122 at: https://dagshub.com/akshatsharma2407/GMC_motors.mlflow/#/experiments/3/runs/083ee707d3a24d29ab6e74f452922861\n",
      "🧪 View experiment at: https://dagshub.com/akshatsharma2407/GMC_motors.mlflow/#/experiments/3\n"
     ]
    },
    {
     "name": "stderr",
     "output_type": "stream",
     "text": [
      "2025/03/09 20:31:52 WARNING mlflow.utils.autologging_utils: Encountered unexpected error during sklearn autologging: The following failures occurred while performing one or more logging operations: [MlflowException('Failed to perform one or more operations on the run with ID 64f43667ca354f81bb0c506f74a90828. Failed operations: [RestException(\"INVALID_PARAMETER_VALUE: Response: {\\'error_code\\': \\'INVALID_PARAMETER_VALUE\\'}\")]')]\n"
     ]
    },
    {
     "name": "stdout",
     "output_type": "stream",
     "text": [
      "best params for RandomForestRegressor is :  {'max_features': 'sqrt', 'n_estimators': 200}\n",
      "best params for RandomForestRegressor() is :  0.8827113448038484\n",
      "==================== \n",
      "\n",
      "\n"
     ]
    }
   ],
   "source": [
    "# hyperparameter tuning\n",
    "\n",
    "for i,j in models.items():\n",
    "    print('training ',i,'....')\n",
    "    grid_search = GridSearchCV(j,param_grid=param_grids[i],cv=5,verbose=1,n_jobs=-1,scoring='r2')\n",
    "\n",
    "    grid_search.fit(xtrain_trans,ytrain)\n",
    "\n",
    "    print(f'best params for {i} is : ',grid_search.best_params_)\n",
    "    print(f'best params for {j} is : ',grid_search.best_score_)\n",
    "\n",
    "    print('='*20,'\\n\\n')"
   ]
  },
  {
   "cell_type": "code",
   "execution_count": 83,
   "metadata": {},
   "outputs": [],
   "source": [
    "best_estimator = grid_search.best_estimator_"
   ]
  },
  {
   "cell_type": "code",
   "execution_count": 84,
   "metadata": {},
   "outputs": [],
   "source": [
    "ypred = best_estimator.predict(xtest_trans)"
   ]
  },
  {
   "cell_type": "code",
   "execution_count": 85,
   "metadata": {},
   "outputs": [
    {
     "name": "stdout",
     "output_type": "stream",
     "text": [
      "mean squared error 47005216.69515579\n",
      "mean_absolute_error 4624.5725490164195\n",
      "r2_score 0.8785538073844501\n"
     ]
    }
   ],
   "source": [
    "print('mean squared error',mean_squared_error(ytest,ypred))\n",
    "print('mean_absolute_error',mean_absolute_error(ytest,ypred))\n",
    "print('r2_score',r2_score(ytest,ypred))"
   ]
  },
  {
   "cell_type": "code",
   "execution_count": 86,
   "metadata": {},
   "outputs": [
    {
     "name": "stdout",
     "output_type": "stream",
     "text": [
      "🏃 View run clumsy-mare-257 at: https://dagshub.com/akshatsharma2407/GMC_motors.mlflow/#/experiments/3/runs/64f43667ca354f81bb0c506f74a90828\n",
      "🧪 View experiment at: https://dagshub.com/akshatsharma2407/GMC_motors.mlflow/#/experiments/3\n"
     ]
    }
   ],
   "source": [
    "mlflow.end_run()"
   ]
  }
 ],
 "metadata": {
  "kernelspec": {
   "display_name": "Python 3",
   "language": "python",
   "name": "python3"
  },
  "language_info": {
   "codemirror_mode": {
    "name": "ipython",
    "version": 3
   },
   "file_extension": ".py",
   "mimetype": "text/x-python",
   "name": "python",
   "nbconvert_exporter": "python",
   "pygments_lexer": "ipython3",
   "version": "3.12.2"
  }
 },
 "nbformat": 4,
 "nbformat_minor": 2
}
