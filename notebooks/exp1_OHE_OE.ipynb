{
 "cells": [
  {
   "cell_type": "code",
   "execution_count": 248,
   "metadata": {},
   "outputs": [],
   "source": [
    "import numpy as np\n",
    "import pandas as pd\n",
    "import mlflow\n",
    "import dagshub"
   ]
  },
  {
   "cell_type": "code",
   "execution_count": 249,
   "metadata": {},
   "outputs": [
    {
     "data": {
      "text/html": [
       "<pre style=\"white-space:pre;overflow-x:auto;line-height:normal;font-family:Menlo,'DejaVu Sans Mono',consolas,'Courier New',monospace\">Initialized MLflow to track repo <span style=\"color: #008000; text-decoration-color: #008000\">\"akshatsharma2407/GMC_motors\"</span>\n",
       "</pre>\n"
      ],
      "text/plain": [
       "Initialized MLflow to track repo \u001b[32m\"akshatsharma2407/GMC_motors\"\u001b[0m\n"
      ]
     },
     "metadata": {},
     "output_type": "display_data"
    },
    {
     "data": {
      "text/html": [
       "<pre style=\"white-space:pre;overflow-x:auto;line-height:normal;font-family:Menlo,'DejaVu Sans Mono',consolas,'Courier New',monospace\">Repository akshatsharma2407/GMC_motors initialized!\n",
       "</pre>\n"
      ],
      "text/plain": [
       "Repository akshatsharma2407/GMC_motors initialized!\n"
      ]
     },
     "metadata": {},
     "output_type": "display_data"
    }
   ],
   "source": [
    "dagshub.init(repo_owner='akshatsharma2407', repo_name='GMC_motors', mlflow=True)\n",
    "\n",
    "mlflow.set_tracking_uri('https://dagshub.com/akshatsharma2407/GMC_motors.mlflow')"
   ]
  },
  {
   "cell_type": "code",
   "execution_count": 250,
   "metadata": {},
   "outputs": [
    {
     "name": "stderr",
     "output_type": "stream",
     "text": [
      "2025/03/09 18:44:16 INFO mlflow.tracking.fluent: Autologging successfully enabled for sklearn.\n",
      "2025/03/09 18:44:16 INFO mlflow.tracking.fluent: Autologging successfully enabled for statsmodels.\n",
      "2025/03/09 18:44:18 INFO mlflow.tracking.fluent: Autologging successfully enabled for xgboost.\n",
      "2025/03/09 18:44:18 INFO mlflow.tracking.fluent: Experiment with name 'GMC_exp1' does not exist. Creating a new experiment.\n"
     ]
    },
    {
     "data": {
      "text/plain": [
       "<ActiveRun: >"
      ]
     },
     "execution_count": 250,
     "metadata": {},
     "output_type": "execute_result"
    }
   ],
   "source": [
    "mlflow.autolog()\n",
    "mlflow.set_experiment(experiment_name='GMC_exp1')\n",
    "mlflow.start_run()"
   ]
  },
  {
   "cell_type": "code",
   "execution_count": 251,
   "metadata": {},
   "outputs": [],
   "source": [
    "df = pd.read_csv('C:/Users/aksha/Downloads/CLEANED_GMC_DIESEL.csv')"
   ]
  },
  {
   "cell_type": "code",
   "execution_count": 252,
   "metadata": {},
   "outputs": [],
   "source": [
    "df.drop(columns=['PRICE RANGE','MAKE ORIGIN','PARENT COMPANY','IMAGE','BRAND'],inplace=True)"
   ]
  },
  {
   "cell_type": "code",
   "execution_count": 253,
   "metadata": {},
   "outputs": [],
   "source": [
    "df['AGE OF CAR'] = df['AGE OF CAR'].astype(str)\n",
    "df['MODEL'] = df['MODEL'].astype(str)"
   ]
  },
  {
   "cell_type": "code",
   "execution_count": 254,
   "metadata": {},
   "outputs": [
    {
     "name": "stdout",
     "output_type": "stream",
     "text": [
      "<class 'pandas.core.frame.DataFrame'>\n",
      "RangeIndex: 9929 entries, 0 to 9928\n",
      "Data columns (total 12 columns):\n",
      " #   Column                   Non-Null Count  Dtype  \n",
      "---  ------                   --------------  -----  \n",
      " 0   CAR NAME                 9929 non-null   object \n",
      " 1   MODEL/CLASS              9929 non-null   object \n",
      " 2   MODEL                    9929 non-null   object \n",
      " 3   PRICE($)                 9929 non-null   float64\n",
      " 4   STOCK TYPE               9929 non-null   object \n",
      " 5   MILEAGE                  9929 non-null   int64  \n",
      " 6   AGE OF CAR               9929 non-null   object \n",
      " 7   RATING                   9929 non-null   float64\n",
      " 8   REVIEW                   9929 non-null   float64\n",
      " 9   DEALER NAME              9929 non-null   object \n",
      " 10  DEALER LOCATION (CITY)   9929 non-null   object \n",
      " 11  DEALER LOCATION (STATE)  9928 non-null   object \n",
      "dtypes: float64(3), int64(1), object(8)\n",
      "memory usage: 931.0+ KB\n"
     ]
    }
   ],
   "source": [
    "df.info()"
   ]
  },
  {
   "cell_type": "code",
   "execution_count": 255,
   "metadata": {},
   "outputs": [],
   "source": [
    "df.dropna(inplace=True)"
   ]
  },
  {
   "cell_type": "code",
   "execution_count": 256,
   "metadata": {},
   "outputs": [],
   "source": [
    "df.drop_duplicates(inplace=True)"
   ]
  },
  {
   "cell_type": "code",
   "execution_count": 257,
   "metadata": {},
   "outputs": [
    {
     "data": {
      "text/html": [
       "<div>\n",
       "<style scoped>\n",
       "    .dataframe tbody tr th:only-of-type {\n",
       "        vertical-align: middle;\n",
       "    }\n",
       "\n",
       "    .dataframe tbody tr th {\n",
       "        vertical-align: top;\n",
       "    }\n",
       "\n",
       "    .dataframe thead th {\n",
       "        text-align: right;\n",
       "    }\n",
       "</style>\n",
       "<table border=\"1\" class=\"dataframe\">\n",
       "  <thead>\n",
       "    <tr style=\"text-align: right;\">\n",
       "      <th></th>\n",
       "      <th>CAR NAME</th>\n",
       "      <th>MODEL/CLASS</th>\n",
       "      <th>MODEL</th>\n",
       "      <th>PRICE($)</th>\n",
       "      <th>STOCK TYPE</th>\n",
       "      <th>MILEAGE</th>\n",
       "      <th>AGE OF CAR</th>\n",
       "      <th>RATING</th>\n",
       "      <th>REVIEW</th>\n",
       "      <th>DEALER NAME</th>\n",
       "      <th>DEALER LOCATION (CITY)</th>\n",
       "      <th>DEALER LOCATION (STATE)</th>\n",
       "    </tr>\n",
       "  </thead>\n",
       "  <tbody>\n",
       "    <tr>\n",
       "      <th>0</th>\n",
       "      <td>GMC Sierra 3500 Denali</td>\n",
       "      <td>Sierra 3500</td>\n",
       "      <td>2024</td>\n",
       "      <td>82648.0</td>\n",
       "      <td>New</td>\n",
       "      <td>0</td>\n",
       "      <td>0</td>\n",
       "      <td>3.1</td>\n",
       "      <td>507.0</td>\n",
       "      <td>Kunes Chevrolet GMC of Elkhorn</td>\n",
       "      <td>Elkhorn</td>\n",
       "      <td>Wisconsin</td>\n",
       "    </tr>\n",
       "    <tr>\n",
       "      <th>1</th>\n",
       "      <td>GMC Sierra 2500 SLE</td>\n",
       "      <td>Sierra 2500</td>\n",
       "      <td>2022</td>\n",
       "      <td>46989.0</td>\n",
       "      <td>Used</td>\n",
       "      <td>51587</td>\n",
       "      <td>2</td>\n",
       "      <td>4.7</td>\n",
       "      <td>1443.0</td>\n",
       "      <td>Kearns Motor Car Co.</td>\n",
       "      <td>Johnson Creek</td>\n",
       "      <td>Wisconsin</td>\n",
       "    </tr>\n",
       "    <tr>\n",
       "      <th>2</th>\n",
       "      <td>GMC Sierra 1500 Elevation</td>\n",
       "      <td>Sierra 1500</td>\n",
       "      <td>2024</td>\n",
       "      <td>57375.0</td>\n",
       "      <td>New</td>\n",
       "      <td>0</td>\n",
       "      <td>0</td>\n",
       "      <td>4.1</td>\n",
       "      <td>49.0</td>\n",
       "      <td>Lafayette GMC Cadillac</td>\n",
       "      <td>Lafayette</td>\n",
       "      <td>Indiana</td>\n",
       "    </tr>\n",
       "    <tr>\n",
       "      <th>3</th>\n",
       "      <td>GMC Sierra 1500 AT4X</td>\n",
       "      <td>Sierra 1500</td>\n",
       "      <td>2024</td>\n",
       "      <td>75787.0</td>\n",
       "      <td>New</td>\n",
       "      <td>0</td>\n",
       "      <td>0</td>\n",
       "      <td>4.3</td>\n",
       "      <td>9.0</td>\n",
       "      <td>Pilson Chevrolet Buick GMC</td>\n",
       "      <td>Clinton</td>\n",
       "      <td>Indiana</td>\n",
       "    </tr>\n",
       "    <tr>\n",
       "      <th>4</th>\n",
       "      <td>GMC Sierra 1500 Elevation</td>\n",
       "      <td>Sierra 1500</td>\n",
       "      <td>2021</td>\n",
       "      <td>36667.0</td>\n",
       "      <td>Used</td>\n",
       "      <td>41976</td>\n",
       "      <td>3</td>\n",
       "      <td>-1.0</td>\n",
       "      <td>8.0</td>\n",
       "      <td>H&amp;K Chevrolet, Inc.</td>\n",
       "      <td>Continental</td>\n",
       "      <td>Ohio</td>\n",
       "    </tr>\n",
       "    <tr>\n",
       "      <th>...</th>\n",
       "      <td>...</td>\n",
       "      <td>...</td>\n",
       "      <td>...</td>\n",
       "      <td>...</td>\n",
       "      <td>...</td>\n",
       "      <td>...</td>\n",
       "      <td>...</td>\n",
       "      <td>...</td>\n",
       "      <td>...</td>\n",
       "      <td>...</td>\n",
       "      <td>...</td>\n",
       "      <td>...</td>\n",
       "    </tr>\n",
       "    <tr>\n",
       "      <th>9922</th>\n",
       "      <td>GMC Sierra 1500 Base</td>\n",
       "      <td>Sierra 1500</td>\n",
       "      <td>2017</td>\n",
       "      <td>26989.0</td>\n",
       "      <td>Used</td>\n",
       "      <td>51537</td>\n",
       "      <td>7</td>\n",
       "      <td>4.2</td>\n",
       "      <td>880.0</td>\n",
       "      <td>Corwin Motors Kalispell</td>\n",
       "      <td>Kalispell</td>\n",
       "      <td>Montana</td>\n",
       "    </tr>\n",
       "    <tr>\n",
       "      <th>9923</th>\n",
       "      <td>GMC Sierra 2500 Base</td>\n",
       "      <td>Sierra 2500</td>\n",
       "      <td>2022</td>\n",
       "      <td>69198.0</td>\n",
       "      <td>Used</td>\n",
       "      <td>28975</td>\n",
       "      <td>2</td>\n",
       "      <td>4.4</td>\n",
       "      <td>1188.0</td>\n",
       "      <td>Motor City Buick GMC</td>\n",
       "      <td>Bakersfield</td>\n",
       "      <td>California</td>\n",
       "    </tr>\n",
       "    <tr>\n",
       "      <th>9924</th>\n",
       "      <td>GMC Sierra 3500 Base</td>\n",
       "      <td>Sierra 3500</td>\n",
       "      <td>2024</td>\n",
       "      <td>65368.0</td>\n",
       "      <td>New</td>\n",
       "      <td>0</td>\n",
       "      <td>0</td>\n",
       "      <td>4.4</td>\n",
       "      <td>1188.0</td>\n",
       "      <td>Motor City Buick GMC</td>\n",
       "      <td>Bakersfield</td>\n",
       "      <td>California</td>\n",
       "    </tr>\n",
       "    <tr>\n",
       "      <th>9926</th>\n",
       "      <td>GMC Sierra 1500 Elevation</td>\n",
       "      <td>Sierra 1500</td>\n",
       "      <td>2024</td>\n",
       "      <td>64579.0</td>\n",
       "      <td>New</td>\n",
       "      <td>0</td>\n",
       "      <td>0</td>\n",
       "      <td>4.5</td>\n",
       "      <td>743.0</td>\n",
       "      <td>Chevrolet GMC of Fairbanks</td>\n",
       "      <td>Fairbanks</td>\n",
       "      <td>Alaska</td>\n",
       "    </tr>\n",
       "    <tr>\n",
       "      <th>9928</th>\n",
       "      <td>GMC Sierra 1500 Denali</td>\n",
       "      <td>Sierra 1500</td>\n",
       "      <td>2024</td>\n",
       "      <td>78200.0</td>\n",
       "      <td>New</td>\n",
       "      <td>0</td>\n",
       "      <td>0</td>\n",
       "      <td>4.5</td>\n",
       "      <td>743.0</td>\n",
       "      <td>Chevrolet GMC of Fairbanks</td>\n",
       "      <td>Fairbanks</td>\n",
       "      <td>Alaska</td>\n",
       "    </tr>\n",
       "  </tbody>\n",
       "</table>\n",
       "<p>8399 rows × 12 columns</p>\n",
       "</div>"
      ],
      "text/plain": [
       "                       CAR NAME  MODEL/CLASS MODEL  PRICE($) STOCK TYPE  \\\n",
       "0        GMC Sierra 3500 Denali  Sierra 3500  2024   82648.0        New   \n",
       "1           GMC Sierra 2500 SLE  Sierra 2500  2022   46989.0       Used   \n",
       "2     GMC Sierra 1500 Elevation  Sierra 1500  2024   57375.0        New   \n",
       "3          GMC Sierra 1500 AT4X  Sierra 1500  2024   75787.0        New   \n",
       "4     GMC Sierra 1500 Elevation  Sierra 1500  2021   36667.0       Used   \n",
       "...                         ...          ...   ...       ...        ...   \n",
       "9922       GMC Sierra 1500 Base  Sierra 1500  2017   26989.0       Used   \n",
       "9923       GMC Sierra 2500 Base  Sierra 2500  2022   69198.0       Used   \n",
       "9924       GMC Sierra 3500 Base  Sierra 3500  2024   65368.0        New   \n",
       "9926  GMC Sierra 1500 Elevation  Sierra 1500  2024   64579.0        New   \n",
       "9928     GMC Sierra 1500 Denali  Sierra 1500  2024   78200.0        New   \n",
       "\n",
       "      MILEAGE AGE OF CAR  RATING  REVIEW                     DEALER NAME  \\\n",
       "0           0          0     3.1   507.0  Kunes Chevrolet GMC of Elkhorn   \n",
       "1       51587          2     4.7  1443.0            Kearns Motor Car Co.   \n",
       "2           0          0     4.1    49.0          Lafayette GMC Cadillac   \n",
       "3           0          0     4.3     9.0      Pilson Chevrolet Buick GMC   \n",
       "4       41976          3    -1.0     8.0             H&K Chevrolet, Inc.   \n",
       "...       ...        ...     ...     ...                             ...   \n",
       "9922    51537          7     4.2   880.0         Corwin Motors Kalispell   \n",
       "9923    28975          2     4.4  1188.0            Motor City Buick GMC   \n",
       "9924        0          0     4.4  1188.0            Motor City Buick GMC   \n",
       "9926        0          0     4.5   743.0      Chevrolet GMC of Fairbanks   \n",
       "9928        0          0     4.5   743.0      Chevrolet GMC of Fairbanks   \n",
       "\n",
       "     DEALER LOCATION (CITY) DEALER LOCATION (STATE)  \n",
       "0                   Elkhorn               Wisconsin  \n",
       "1             Johnson Creek               Wisconsin  \n",
       "2                 Lafayette                 Indiana  \n",
       "3                   Clinton                 Indiana  \n",
       "4               Continental                    Ohio  \n",
       "...                     ...                     ...  \n",
       "9922              Kalispell                 Montana  \n",
       "9923            Bakersfield              California  \n",
       "9924            Bakersfield              California  \n",
       "9926              Fairbanks                  Alaska  \n",
       "9928              Fairbanks                  Alaska  \n",
       "\n",
       "[8399 rows x 12 columns]"
      ]
     },
     "execution_count": 257,
     "metadata": {},
     "output_type": "execute_result"
    }
   ],
   "source": [
    "df"
   ]
  },
  {
   "cell_type": "code",
   "execution_count": 258,
   "metadata": {},
   "outputs": [],
   "source": [
    "from sklearn.preprocessing import OneHotEncoder\n",
    "from sklearn.preprocessing import OrdinalEncoder\n",
    "from sklearn.model_selection import train_test_split\n",
    "import category_encoders as ce\n",
    "from sklearn.compose import ColumnTransformer\n",
    "from sklearn.impute import SimpleImputer\n",
    "from sklearn.preprocessing import StandardScaler\n",
    "from sklearn.pipeline import Pipeline\n",
    "from sklearn.linear_model import Lasso\n",
    "from sklearn.linear_model import LinearRegression"
   ]
  },
  {
   "cell_type": "code",
   "execution_count": 259,
   "metadata": {},
   "outputs": [],
   "source": [
    "xtrain,xtest,ytrain,ytest = train_test_split(df.drop(columns=['PRICE($)']),df['PRICE($)'],random_state=42,test_size=0.2)"
   ]
  },
  {
   "cell_type": "code",
   "execution_count": 260,
   "metadata": {},
   "outputs": [
    {
     "name": "stdout",
     "output_type": "stream",
     "text": [
      "(6719, 11)\n",
      "(1680, 11)\n"
     ]
    }
   ],
   "source": [
    "print(xtrain.shape)\n",
    "print(xtest.shape)"
   ]
  },
  {
   "cell_type": "code",
   "execution_count": 261,
   "metadata": {},
   "outputs": [],
   "source": [
    "ct1 = ColumnTransformer(\n",
    "    [\n",
    "        ('RatingImputer',SimpleImputer(missing_values=-1,strategy='mean'),['RATING']),\n",
    "        ('OHE',OneHotEncoder(drop='first',sparse_output=False,min_frequency=5,handle_unknown='ignore'),['CAR NAME','MODEL/CLASS','DEALER NAME','DEALER LOCATION (CITY)','DEALER LOCATION (STATE)']),\n",
    "        ('OE',OrdinalEncoder(categories=\n",
    "                             [\n",
    "                                 [\"1937\", \"1951\", \"1952\", \"1966\", \"1968\", \"1977\", \"1979\", \"1984\", \"1986\", \"1987\", \n",
    "        \"1988\", \"1989\", \"1996\", \"1998\", \"1999\", \"2000\", \"2001\", \"2002\", \"2003\", \"2004\", \n",
    "        \"2005\", \"2006\", \"2007\", \"2008\", \"2009\", \"2010\", \"2011\", \"2012\", \"2013\", \"2014\", \n",
    "        \"2015\", \"2016\", \"2017\", \"2018\", \"2019\", \"2020\", \"2021\", \"2022\", \"2023\", \"2024\"],\n",
    "       ['Used','GMC Certified','New'],\n",
    "       [\"87\", \"73\", \"72\", \"58\", \"56\", \"47\", \"45\", \"40\", \"38\", \"37\", \"36\", \"35\", \"28\", \n",
    "        \"26\", \"25\", \"24\", \"23\", \"22\", \"21\", \"20\", \"19\", \"18\", \"17\", \"16\", \"15\", \"14\", \n",
    "        \"13\", \"12\", \"11\", \"10\", \"9\", \"8\", \"7\", \"6\", \"5\", \"4\", \"3\", \"2\", \"1\", \"0\"]\n",
    "       ]\n",
    "       ),['MODEL','STOCK TYPE','AGE OF CAR'])\n",
    "    ],\n",
    "    remainder='passthrough'\n",
    ")"
   ]
  },
  {
   "cell_type": "code",
   "execution_count": 262,
   "metadata": {},
   "outputs": [],
   "source": [
    "ct2 = ColumnTransformer(\n",
    "    [\n",
    "        ('stdscaler',StandardScaler(),slice(0,820))\n",
    "    ]\n",
    ")"
   ]
  },
  {
   "cell_type": "code",
   "execution_count": 263,
   "metadata": {},
   "outputs": [],
   "source": [
    "pipe = Pipeline([\n",
    "    ('ct1',ct1),\n",
    "    ('ct2',ct2)\n",
    "])"
   ]
  },
  {
   "cell_type": "code",
   "execution_count": 264,
   "metadata": {},
   "outputs": [
    {
     "name": "stderr",
     "output_type": "stream",
     "text": [
      "2025/03/09 18:44:21 WARNING mlflow.utils.autologging_utils: MLflow autologging encountered a warning: \"c:\\Users\\aksha\\AppData\\Local\\Programs\\Python\\Python312\\Lib\\site-packages\\mlflow\\types\\utils.py:452: UserWarning: Hint: Inferred schema contains integer column(s). Integer columns in Python cannot represent missing values. If your input data contains missing values at inference time, it will be encoded as floats and will cause a schema enforcement error. The best way to avoid this problem is to infer the model schema based on a realistic data sample (training dataset) that includes missing values. Alternatively, you can declare integer columns as doubles (float64) whenever these columns may have missing values. See `Handling Integers With Missing Values <https://www.mlflow.org/docs/latest/models.html#handling-integers-with-missing-values>`_ for more details.\"\n",
      "2025/03/09 18:44:21 WARNING mlflow.utils.autologging_utils: MLflow autologging encountered a warning: \"c:\\Users\\aksha\\AppData\\Local\\Programs\\Python\\Python312\\Lib\\site-packages\\sklearn\\compose\\_column_transformer.py:1667: FutureWarning: \n",
      "The format of the columns of the 'remainder' transformer in ColumnTransformer.transformers_ will change in version 1.7 to match the format of the other transformers.\n",
      "At the moment the remainder columns are stored as indices (of type int). With the same ColumnTransformer configuration, in the future they will be stored as column names (of type str).\n",
      "To use the new behavior now and suppress this warning, use ColumnTransformer(force_int_remainder_cols=False).\n",
      "\"\n",
      "2025/03/09 18:44:22 WARNING mlflow.sklearn: Training metrics will not be recorded because training labels were not specified. To automatically record training metrics, provide training labels as inputs to the model training function.\n",
      "2025/03/09 18:44:22 WARNING mlflow.utils.autologging_utils: MLflow autologging encountered a warning: \"c:\\Users\\aksha\\AppData\\Local\\Programs\\Python\\Python312\\Lib\\site-packages\\mlflow\\types\\utils.py:452: UserWarning: Hint: Inferred schema contains integer column(s). Integer columns in Python cannot represent missing values. If your input data contains missing values at inference time, it will be encoded as floats and will cause a schema enforcement error. The best way to avoid this problem is to infer the model schema based on a realistic data sample (training dataset) that includes missing values. Alternatively, you can declare integer columns as doubles (float64) whenever these columns may have missing values. See `Handling Integers With Missing Values <https://www.mlflow.org/docs/latest/models.html#handling-integers-with-missing-values>`_ for more details.\"\n",
      "2025/03/09 18:44:22 WARNING mlflow.sklearn: Model was missing function: predict. Not logging python_function flavor!\n"
     ]
    }
   ],
   "source": [
    "pipe.set_output(transform='pandas')\n",
    "xtrain_trans = pipe.fit_transform(xtrain)"
   ]
  },
  {
   "cell_type": "code",
   "execution_count": null,
   "metadata": {},
   "outputs": [],
   "source": [
    "from sklearn.linear_model import LinearRegression\n",
    "from sklearn.tree import DecisionTreeRegressor\n",
    "from sklearn.svm import SVR\n",
    "from sklearn.ensemble import RandomForestRegressor\n",
    "from sklearn.model_selection import GridSearchCV"
   ]
  },
  {
   "cell_type": "code",
   "execution_count": 266,
   "metadata": {},
   "outputs": [],
   "source": [
    "param_grids = {\n",
    "    'LinearRegression': {},\n",
    "    'DecisionTreeRegressor': {\n",
    "        'max_depth': [None, 10, 20],\n",
    "        'min_samples_split': [2, 5, 10]\n",
    "    },\n",
    "    'SVR': {\n",
    "        'C': [0.1, 1, 10],\n",
    "        'kernel': ['linear', 'rbf']\n",
    "    },\n",
    "    'RandomForestRegressor': {\n",
    "        'n_estimators': [50, 100, 200],\n",
    "        'max_features': ['auto', 'sqrt']\n",
    "    }\n",
    "}"
   ]
  },
  {
   "cell_type": "code",
   "execution_count": 267,
   "metadata": {},
   "outputs": [
    {
     "name": "stdout",
     "output_type": "stream",
     "text": [
      "Training LinearRegression...\n",
      "Fitting 5 folds for each of 1 candidates, totalling 5 fits\n"
     ]
    },
    {
     "name": "stderr",
     "output_type": "stream",
     "text": [
      "2025/03/09 18:45:13 INFO mlflow.sklearn.utils: Logging the 5 best runs, no runs will be omitted.\n",
      "2025/03/09 18:45:15 WARNING mlflow.utils.autologging_utils: Encountered unexpected error during sklearn autologging: The following failures occurred while performing one or more logging operations: [MlflowException('Failed to perform one or more operations on the run with ID 95b9bbb28ef347279506a874d9790381. Failed operations: [RestException(\"INVALID_PARAMETER_VALUE: Response: {\\'error_code\\': \\'INVALID_PARAMETER_VALUE\\'}\")]')]\n"
     ]
    },
    {
     "name": "stdout",
     "output_type": "stream",
     "text": [
      "Best params for LinearRegression: {}\n",
      "Best R² score: 0.8617482576531474\n",
      "\n",
      "Training DecisionTreeRegressor...\n",
      "Fitting 5 folds for each of 9 candidates, totalling 45 fits\n"
     ]
    },
    {
     "name": "stderr",
     "output_type": "stream",
     "text": [
      "2025/03/09 18:45:50 INFO mlflow.sklearn.utils: Logging the 5 best runs, 4 runs will be omitted.\n",
      "2025/03/09 18:46:02 WARNING mlflow.utils.autologging_utils: Encountered unexpected error during sklearn autologging: The following failures occurred while performing one or more logging operations: [MlflowException('Failed to perform one or more operations on the run with ID 95b9bbb28ef347279506a874d9790381. Failed operations: [RestException(\"INVALID_PARAMETER_VALUE: Response: {\\'error_code\\': \\'INVALID_PARAMETER_VALUE\\'}\")]')]\n"
     ]
    },
    {
     "name": "stdout",
     "output_type": "stream",
     "text": [
      "Best params for DecisionTreeRegressor: {'max_depth': 20, 'min_samples_split': 10}\n",
      "Best R² score: 0.8673232668744288\n",
      "\n",
      "Training SVR...\n",
      "Fitting 5 folds for each of 6 candidates, totalling 30 fits\n"
     ]
    },
    {
     "name": "stderr",
     "output_type": "stream",
     "text": [
      "2025/03/09 18:52:58 INFO mlflow.sklearn.utils: Logging the 5 best runs, one run will be omitted.\n",
      "2025/03/09 18:53:28 WARNING mlflow.utils.autologging_utils: Encountered unexpected error during sklearn autologging: The following failures occurred while performing one or more logging operations: [MlflowException('Failed to perform one or more operations on the run with ID 95b9bbb28ef347279506a874d9790381. Failed operations: [RestException(\"INVALID_PARAMETER_VALUE: Response: {\\'error_code\\': \\'INVALID_PARAMETER_VALUE\\'}\")]')]\n"
     ]
    },
    {
     "name": "stdout",
     "output_type": "stream",
     "text": [
      "Best params for SVR: {'C': 10, 'kernel': 'linear'}\n",
      "Best R² score: 0.857584467622851\n",
      "\n",
      "Training RandomForestRegressor...\n",
      "Fitting 5 folds for each of 6 candidates, totalling 30 fits\n"
     ]
    },
    {
     "name": "stderr",
     "output_type": "stream",
     "text": [
      "c:\\Users\\aksha\\AppData\\Local\\Programs\\Python\\Python312\\Lib\\site-packages\\sklearn\\model_selection\\_validation.py:528: FitFailedWarning: \n",
      "15 fits failed out of a total of 30.\n",
      "The score on these train-test partitions for these parameters will be set to nan.\n",
      "If these failures are not expected, you can try to debug them by setting error_score='raise'.\n",
      "\n",
      "Below are more details about the failures:\n",
      "--------------------------------------------------------------------------------\n",
      "9 fits failed with the following error:\n",
      "Traceback (most recent call last):\n",
      "  File \"c:\\Users\\aksha\\AppData\\Local\\Programs\\Python\\Python312\\Lib\\site-packages\\sklearn\\model_selection\\_validation.py\", line 866, in _fit_and_score\n",
      "    estimator.fit(X_train, y_train, **fit_params)\n",
      "  File \"c:\\Users\\aksha\\AppData\\Local\\Programs\\Python\\Python312\\Lib\\site-packages\\sklearn\\base.py\", line 1382, in wrapper\n",
      "    estimator._validate_params()\n",
      "  File \"c:\\Users\\aksha\\AppData\\Local\\Programs\\Python\\Python312\\Lib\\site-packages\\sklearn\\base.py\", line 436, in _validate_params\n",
      "    validate_parameter_constraints(\n",
      "  File \"c:\\Users\\aksha\\AppData\\Local\\Programs\\Python\\Python312\\Lib\\site-packages\\sklearn\\utils\\_param_validation.py\", line 98, in validate_parameter_constraints\n",
      "    raise InvalidParameterError(\n",
      "sklearn.utils._param_validation.InvalidParameterError: The 'max_features' parameter of RandomForestRegressor must be an int in the range [1, inf), a float in the range (0.0, 1.0], a str among {'sqrt', 'log2'} or None. Got 'auto' instead.\n",
      "\n",
      "--------------------------------------------------------------------------------\n",
      "6 fits failed with the following error:\n",
      "Traceback (most recent call last):\n",
      "  File \"c:\\Users\\aksha\\AppData\\Local\\Programs\\Python\\Python312\\Lib\\site-packages\\sklearn\\model_selection\\_validation.py\", line 866, in _fit_and_score\n",
      "    estimator.fit(X_train, y_train, **fit_params)\n",
      "  File \"c:\\Users\\aksha\\AppData\\Local\\Programs\\Python\\Python312\\Lib\\site-packages\\sklearn\\base.py\", line 1382, in wrapper\n",
      "    estimator._validate_params()\n",
      "  File \"c:\\Users\\aksha\\AppData\\Local\\Programs\\Python\\Python312\\Lib\\site-packages\\sklearn\\base.py\", line 436, in _validate_params\n",
      "    validate_parameter_constraints(\n",
      "  File \"c:\\Users\\aksha\\AppData\\Local\\Programs\\Python\\Python312\\Lib\\site-packages\\sklearn\\utils\\_param_validation.py\", line 98, in validate_parameter_constraints\n",
      "    raise InvalidParameterError(\n",
      "sklearn.utils._param_validation.InvalidParameterError: The 'max_features' parameter of RandomForestRegressor must be an int in the range [1, inf), a float in the range (0.0, 1.0], a str among {'log2', 'sqrt'} or None. Got 'auto' instead.\n",
      "\n",
      "  warnings.warn(some_fits_failed_message, FitFailedWarning)\n",
      "c:\\Users\\aksha\\AppData\\Local\\Programs\\Python\\Python312\\Lib\\site-packages\\sklearn\\model_selection\\_search.py:1108: UserWarning: One or more of the test scores are non-finite: [       nan        nan        nan 0.87029986 0.87074911 0.87207595]\n",
      "  warnings.warn(\n",
      "2025/03/09 18:56:21 INFO mlflow.sklearn.utils: Logging the 5 best runs, one run will be omitted.\n",
      "2025/03/09 18:56:34 WARNING mlflow.utils.autologging_utils: Encountered unexpected error during sklearn autologging: The following failures occurred while performing one or more logging operations: [MlflowException('Failed to perform one or more operations on the run with ID 95b9bbb28ef347279506a874d9790381. Failed operations: [RestException(\"INVALID_PARAMETER_VALUE: Response: {\\'error_code\\': \\'INVALID_PARAMETER_VALUE\\'}\")]')]\n"
     ]
    },
    {
     "name": "stdout",
     "output_type": "stream",
     "text": [
      "Best params for RandomForestRegressor: {'max_features': 'sqrt', 'n_estimators': 200}\n",
      "Best R² score: 0.8720759468228326\n",
      "\n"
     ]
    }
   ],
   "source": [
    "from sklearn.model_selection import GridSearchCV\n",
    "\n",
    "baseline_models = {\n",
    "    'LinearRegression': LinearRegression(),\n",
    "    'DecisionTreeRegressor': DecisionTreeRegressor(),\n",
    "    'SVR': SVR(),\n",
    "    'RandomForestRegressor': RandomForestRegressor()\n",
    "}\n",
    "\n",
    "for name, model in baseline_models.items():\n",
    "    print(f\"Training {name}...\")\n",
    "\n",
    "    grid_search = GridSearchCV(\n",
    "        model, \n",
    "        param_grids[name],\n",
    "        cv=5, \n",
    "        scoring='r2',\n",
    "        n_jobs=-1,\n",
    "        verbose=1\n",
    "    )\n",
    "\n",
    "    grid_search.fit(xtrain_trans, ytrain)\n",
    "\n",
    "    print(f\"Best params for {name}: {grid_search.best_params_}\")\n",
    "    print(f\"Best R² score: {grid_search.best_score_}\\n\")\n"
   ]
  },
  {
   "cell_type": "code",
   "execution_count": 268,
   "metadata": {},
   "outputs": [],
   "source": [
    "from sklearn.metrics import mean_absolute_error, mean_squared_error, r2_score"
   ]
  },
  {
   "cell_type": "code",
   "execution_count": 269,
   "metadata": {},
   "outputs": [],
   "source": [
    "best_base_model = grid_search.best_estimator_"
   ]
  },
  {
   "cell_type": "code",
   "execution_count": 270,
   "metadata": {},
   "outputs": [
    {
     "name": "stderr",
     "output_type": "stream",
     "text": [
      "c:\\Users\\aksha\\AppData\\Local\\Programs\\Python\\Python312\\Lib\\site-packages\\sklearn\\preprocessing\\_encoders.py:246: UserWarning: Found unknown categories in columns [0, 2, 3] during transform. These unknown categories will be encoded as all zeros\n",
      "  warnings.warn(\n",
      "2025/03/09 18:56:35 WARNING mlflow.utils.autologging_utils: MLflow autologging encountered a warning: \"c:\\Users\\aksha\\AppData\\Local\\Programs\\Python\\Python312\\Lib\\site-packages\\mlflow\\types\\utils.py:452: UserWarning: Hint: Inferred schema contains integer column(s). Integer columns in Python cannot represent missing values. If your input data contains missing values at inference time, it will be encoded as floats and will cause a schema enforcement error. The best way to avoid this problem is to infer the model schema based on a realistic data sample (training dataset) that includes missing values. Alternatively, you can declare integer columns as doubles (float64) whenever these columns may have missing values. See `Handling Integers With Missing Values <https://www.mlflow.org/docs/latest/models.html#handling-integers-with-missing-values>`_ for more details.\"\n"
     ]
    }
   ],
   "source": [
    "xtest_trans = pipe.transform(xtest)"
   ]
  },
  {
   "cell_type": "code",
   "execution_count": 271,
   "metadata": {},
   "outputs": [],
   "source": [
    "ypred = best_base_model.predict(xtest_trans)"
   ]
  },
  {
   "cell_type": "code",
   "execution_count": 272,
   "metadata": {},
   "outputs": [
    {
     "name": "stdout",
     "output_type": "stream",
     "text": [
      "4618.7083142433 47311103.83866583 0.8777634944881121\n"
     ]
    }
   ],
   "source": [
    "print(mean_absolute_error(ytest,ypred),\n",
    "mean_squared_error(ytest,ypred),\n",
    "r2_score(ytest,ypred))"
   ]
  },
  {
   "cell_type": "code",
   "execution_count": 274,
   "metadata": {},
   "outputs": [
    {
     "name": "stdout",
     "output_type": "stream",
     "text": [
      "🏃 View run kindly-chimp-23 at: https://dagshub.com/akshatsharma2407/GMC_motors.mlflow/#/experiments/1/runs/95b9bbb28ef347279506a874d9790381\n",
      "🧪 View experiment at: https://dagshub.com/akshatsharma2407/GMC_motors.mlflow/#/experiments/1\n"
     ]
    }
   ],
   "source": [
    "mlflow.end_run()"
   ]
  }
 ],
 "metadata": {
  "kernelspec": {
   "display_name": "Python 3",
   "language": "python",
   "name": "python3"
  },
  "language_info": {
   "codemirror_mode": {
    "name": "ipython",
    "version": 3
   },
   "file_extension": ".py",
   "mimetype": "text/x-python",
   "name": "python",
   "nbconvert_exporter": "python",
   "pygments_lexer": "ipython3",
   "version": "3.12.2"
  }
 },
 "nbformat": 4,
 "nbformat_minor": 2
}
