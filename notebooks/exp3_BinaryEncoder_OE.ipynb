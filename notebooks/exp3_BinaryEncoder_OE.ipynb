{
 "cells": [
  {
   "cell_type": "code",
   "execution_count": 1,
   "metadata": {},
   "outputs": [],
   "source": [
    "import numpy as np\n",
    "import pandas as pd\n",
    "import mlflow\n",
    "import dagshub"
   ]
  },
  {
   "cell_type": "code",
   "execution_count": 2,
   "metadata": {},
   "outputs": [
    {
     "data": {
      "text/html": [
       "<pre style=\"white-space:pre;overflow-x:auto;line-height:normal;font-family:Menlo,'DejaVu Sans Mono',consolas,'Courier New',monospace\">Accessing as akshatsharma2407\n",
       "</pre>\n"
      ],
      "text/plain": [
       "Accessing as akshatsharma2407\n"
      ]
     },
     "metadata": {},
     "output_type": "display_data"
    },
    {
     "data": {
      "text/html": [
       "<pre style=\"white-space:pre;overflow-x:auto;line-height:normal;font-family:Menlo,'DejaVu Sans Mono',consolas,'Courier New',monospace\">Initialized MLflow to track repo <span style=\"color: #008000; text-decoration-color: #008000\">\"akshatsharma2407/GMC_motors\"</span>\n",
       "</pre>\n"
      ],
      "text/plain": [
       "Initialized MLflow to track repo \u001b[32m\"akshatsharma2407/GMC_motors\"\u001b[0m\n"
      ]
     },
     "metadata": {},
     "output_type": "display_data"
    },
    {
     "data": {
      "text/html": [
       "<pre style=\"white-space:pre;overflow-x:auto;line-height:normal;font-family:Menlo,'DejaVu Sans Mono',consolas,'Courier New',monospace\">Repository akshatsharma2407/GMC_motors initialized!\n",
       "</pre>\n"
      ],
      "text/plain": [
       "Repository akshatsharma2407/GMC_motors initialized!\n"
      ]
     },
     "metadata": {},
     "output_type": "display_data"
    }
   ],
   "source": [
    "dagshub.init(repo_owner='akshatsharma2407', repo_name='GMC_motors', mlflow=True)\n",
    "\n",
    "mlflow.set_tracking_uri('https://dagshub.com/akshatsharma2407/GMC_motors.mlflow')"
   ]
  },
  {
   "cell_type": "code",
   "execution_count": null,
   "metadata": {},
   "outputs": [],
   "source": [
    "mlflow.autolog()\n",
    "mlflow.set_experiment(experiment_name='GMC_exp_OE_BINARY')\n",
    "mlflow.start_run()"
   ]
  },
  {
   "cell_type": "code",
   "execution_count": 3,
   "metadata": {},
   "outputs": [],
   "source": [
    "df = pd.read_csv('C:/Users/aksha/Downloads/CLEANED_GMC_DIESEL.csv')"
   ]
  },
  {
   "cell_type": "code",
   "execution_count": 4,
   "metadata": {},
   "outputs": [],
   "source": [
    "df.drop(columns=['PRICE RANGE','MAKE ORIGIN','PARENT COMPANY','IMAGE','BRAND'],inplace=True)"
   ]
  },
  {
   "cell_type": "code",
   "execution_count": 5,
   "metadata": {},
   "outputs": [],
   "source": [
    "df['AGE OF CAR'] = df['AGE OF CAR'].astype(str)\n",
    "df['MODEL'] = df['MODEL'].astype(str)"
   ]
  },
  {
   "cell_type": "code",
   "execution_count": 6,
   "metadata": {},
   "outputs": [],
   "source": [
    "df.dropna(inplace=True)"
   ]
  },
  {
   "cell_type": "code",
   "execution_count": 7,
   "metadata": {},
   "outputs": [],
   "source": [
    "df.drop_duplicates(inplace=True)"
   ]
  },
  {
   "cell_type": "code",
   "execution_count": 8,
   "metadata": {},
   "outputs": [],
   "source": [
    "from sklearn.preprocessing import OneHotEncoder\n",
    "from sklearn.preprocessing import OrdinalEncoder\n",
    "from sklearn.model_selection import train_test_split\n",
    "import category_encoders as ce\n",
    "from sklearn.compose import ColumnTransformer\n",
    "from sklearn.impute import SimpleImputer\n",
    "from sklearn.preprocessing import StandardScaler\n",
    "from sklearn.pipeline import Pipeline\n",
    "from sklearn.linear_model import Lasso\n",
    "from sklearn.linear_model import LinearRegression"
   ]
  },
  {
   "cell_type": "code",
   "execution_count": 9,
   "metadata": {},
   "outputs": [],
   "source": [
    "xtrain,xtest,ytrain,ytest = train_test_split(df.drop(columns=['PRICE($)']),df['PRICE($)'],random_state=42,test_size=0.2)"
   ]
  },
  {
   "cell_type": "code",
   "execution_count": 10,
   "metadata": {},
   "outputs": [],
   "source": [
    "ct1 = ColumnTransformer(\n",
    "    [\n",
    "        ('RatingImputer',SimpleImputer(missing_values=-1,strategy='mean'),['RATING']),\n",
    "        ('OHE',ce.BinaryEncoder(return_df=True),['CAR NAME','MODEL/CLASS','DEALER NAME','DEALER LOCATION (CITY)','DEALER LOCATION (STATE)']),\n",
    "        ('OE',OrdinalEncoder(categories=\n",
    "                             [\n",
    "                                 [\"1937\", \"1951\", \"1952\", \"1966\", \"1968\", \"1977\", \"1979\", \"1984\", \"1986\", \"1987\", \n",
    "        \"1988\", \"1989\", \"1996\", \"1998\", \"1999\", \"2000\", \"2001\", \"2002\", \"2003\", \"2004\", \n",
    "        \"2005\", \"2006\", \"2007\", \"2008\", \"2009\", \"2010\", \"2011\", \"2012\", \"2013\", \"2014\", \n",
    "        \"2015\", \"2016\", \"2017\", \"2018\", \"2019\", \"2020\", \"2021\", \"2022\", \"2023\", \"2024\"],\n",
    "       ['Used','GMC Certified','New'],\n",
    "       [\"87\", \"73\", \"72\", \"58\", \"56\", \"47\", \"45\", \"40\", \"38\", \"37\", \"36\", \"35\", \"28\", \n",
    "        \"26\", \"25\", \"24\", \"23\", \"22\", \"21\", \"20\", \"19\", \"18\", \"17\", \"16\", \"15\", \"14\", \n",
    "        \"13\", \"12\", \"11\", \"10\", \"9\", \"8\", \"7\", \"6\", \"5\", \"4\", \"3\", \"2\", \"1\", \"0\"]\n",
    "       ]\n",
    "       ),['MODEL','STOCK TYPE','AGE OF CAR'])\n",
    "    ],\n",
    "    remainder='passthrough'\n",
    ")"
   ]
  },
  {
   "cell_type": "code",
   "execution_count": 11,
   "metadata": {},
   "outputs": [],
   "source": [
    "ct2 = ColumnTransformer(\n",
    "    [\n",
    "        ('stdscaler',StandardScaler(),slice(0,820))\n",
    "    ]\n",
    ")"
   ]
  },
  {
   "cell_type": "code",
   "execution_count": 12,
   "metadata": {},
   "outputs": [],
   "source": [
    "pipe = Pipeline([\n",
    "    ('ct1',ct1),\n",
    "    ('ct2',ct2)\n",
    "])"
   ]
  },
  {
   "cell_type": "code",
   "execution_count": 15,
   "metadata": {},
   "outputs": [],
   "source": [
    "pipe.set_output(transform='pandas')\n",
    "xtrain_trans = pipe.fit_transform(xtrain)\n",
    "xtest_trans = pipe.transform(xtest)"
   ]
  },
  {
   "cell_type": "code",
   "execution_count": null,
   "metadata": {},
   "outputs": [],
   "source": [
    "from sklearn.linear_model import LinearRegression\n",
    "from sklearn.tree import DecisionTreeRegressor\n",
    "from sklearn.svm import SVR\n",
    "from sklearn.ensemble import RandomForestRegressor\n",
    "from sklearn.model_selection import GridSearchCV\n",
    "from sklearn.metrics import mean_absolute_error, mean_squared_error, r2_score"
   ]
  },
  {
   "cell_type": "code",
   "execution_count": 17,
   "metadata": {},
   "outputs": [],
   "source": [
    "param_grids = {\n",
    "    'LinearRegression': {},\n",
    "    'DecisionTreeRegressor': {\n",
    "        'max_depth': [None, 10, 20],\n",
    "        'min_samples_split': [2, 5, 10]\n",
    "    },\n",
    "    'SVR': {\n",
    "        'C': [0.1, 1, 10],\n",
    "        'kernel': ['linear', 'rbf']\n",
    "    },\n",
    "    'RandomForestRegressor': {\n",
    "        'n_estimators': [50, 100, 200],\n",
    "        'max_features': ['auto', 'sqrt']\n",
    "    }\n",
    "}"
   ]
  },
  {
   "cell_type": "code",
   "execution_count": 18,
   "metadata": {},
   "outputs": [],
   "source": [
    "#baseline models\n",
    "models = {\n",
    "    'LinearRegression' : LinearRegression(),\n",
    "    'DecisionTreeRegressor' : DecisionTreeRegressor(),\n",
    "    'SVR' : SVR(),\n",
    "    'RandomForestRegressor' : RandomForestRegressor()\n",
    "}"
   ]
  },
  {
   "cell_type": "code",
   "execution_count": 19,
   "metadata": {},
   "outputs": [
    {
     "name": "stdout",
     "output_type": "stream",
     "text": [
      "training  LinearRegression ....\n",
      "mean squared error 99174815.28269999\n",
      "mean_absolute_error 7511.66440932148\n",
      "r2_score 0.7437645315509069\n",
      "====================\n",
      "\n",
      "\n",
      "\n",
      "\n",
      "training  DecisionTreeRegressor ....\n",
      "mean squared error 64667025.88151421\n",
      "mean_absolute_error 5404.709212083982\n",
      "r2_score 0.8329214365287567\n",
      "====================\n",
      "\n",
      "\n",
      "\n",
      "\n",
      "training  SVR ....\n",
      "mean squared error 386699069.7550315\n",
      "mean_absolute_error 16156.59931456459\n",
      "r2_score 0.0008953683950695401\n",
      "====================\n",
      "\n",
      "\n",
      "\n",
      "\n",
      "training  RandomForestRegressor ....\n",
      "mean squared error 47298171.10587973\n",
      "mean_absolute_error 4567.7046396366695\n",
      "r2_score 0.8777969084635687\n",
      "====================\n",
      "\n",
      "\n",
      "\n",
      "\n"
     ]
    }
   ],
   "source": [
    "for i,j in models.items():\n",
    "    print('training ',i,'....')\n",
    "    j.fit(xtrain_trans,ytrain)\n",
    "    ypred = j.predict(xtest_trans)\n",
    "    print('mean squared error',mean_squared_error(ytest,ypred))\n",
    "    print('mean_absolute_error',mean_absolute_error(ytest,ypred))\n",
    "    print('r2_score',r2_score(ytest,ypred))\n",
    "    print('='*20)\n",
    "\n",
    "    print('\\n\\n\\n')"
   ]
  },
  {
   "cell_type": "code",
   "execution_count": 20,
   "metadata": {},
   "outputs": [
    {
     "name": "stdout",
     "output_type": "stream",
     "text": [
      "training  LinearRegression ....\n",
      "Fitting 5 folds for each of 1 candidates, totalling 5 fits\n",
      "best params for LinearRegression is :  {}\n",
      "best params for LinearRegression() is :  0.7492441689274428\n",
      "==================== \n",
      "\n",
      "\n",
      "training  DecisionTreeRegressor ....\n",
      "Fitting 5 folds for each of 9 candidates, totalling 45 fits\n",
      "best params for DecisionTreeRegressor is :  {'max_depth': 10, 'min_samples_split': 10}\n",
      "best params for DecisionTreeRegressor() is :  0.8573591883882962\n",
      "==================== \n",
      "\n",
      "\n",
      "training  SVR ....\n",
      "Fitting 5 folds for each of 6 candidates, totalling 30 fits\n",
      "best params for SVR is :  {'C': 10, 'kernel': 'linear'}\n",
      "best params for SVR() is :  0.725715089479128\n",
      "==================== \n",
      "\n",
      "\n",
      "training  RandomForestRegressor ....\n",
      "Fitting 5 folds for each of 6 candidates, totalling 30 fits\n"
     ]
    },
    {
     "name": "stderr",
     "output_type": "stream",
     "text": [
      "c:\\Users\\aksha\\AppData\\Local\\Programs\\Python\\Python312\\Lib\\site-packages\\sklearn\\model_selection\\_validation.py:528: FitFailedWarning: \n",
      "15 fits failed out of a total of 30.\n",
      "The score on these train-test partitions for these parameters will be set to nan.\n",
      "If these failures are not expected, you can try to debug them by setting error_score='raise'.\n",
      "\n",
      "Below are more details about the failures:\n",
      "--------------------------------------------------------------------------------\n",
      "11 fits failed with the following error:\n",
      "Traceback (most recent call last):\n",
      "  File \"c:\\Users\\aksha\\AppData\\Local\\Programs\\Python\\Python312\\Lib\\site-packages\\sklearn\\model_selection\\_validation.py\", line 866, in _fit_and_score\n",
      "    estimator.fit(X_train, y_train, **fit_params)\n",
      "  File \"c:\\Users\\aksha\\AppData\\Local\\Programs\\Python\\Python312\\Lib\\site-packages\\sklearn\\base.py\", line 1382, in wrapper\n",
      "    estimator._validate_params()\n",
      "  File \"c:\\Users\\aksha\\AppData\\Local\\Programs\\Python\\Python312\\Lib\\site-packages\\sklearn\\base.py\", line 436, in _validate_params\n",
      "    validate_parameter_constraints(\n",
      "  File \"c:\\Users\\aksha\\AppData\\Local\\Programs\\Python\\Python312\\Lib\\site-packages\\sklearn\\utils\\_param_validation.py\", line 98, in validate_parameter_constraints\n",
      "    raise InvalidParameterError(\n",
      "sklearn.utils._param_validation.InvalidParameterError: The 'max_features' parameter of RandomForestRegressor must be an int in the range [1, inf), a float in the range (0.0, 1.0], a str among {'log2', 'sqrt'} or None. Got 'auto' instead.\n",
      "\n",
      "--------------------------------------------------------------------------------\n",
      "4 fits failed with the following error:\n",
      "Traceback (most recent call last):\n",
      "  File \"c:\\Users\\aksha\\AppData\\Local\\Programs\\Python\\Python312\\Lib\\site-packages\\sklearn\\model_selection\\_validation.py\", line 866, in _fit_and_score\n",
      "    estimator.fit(X_train, y_train, **fit_params)\n",
      "  File \"c:\\Users\\aksha\\AppData\\Local\\Programs\\Python\\Python312\\Lib\\site-packages\\sklearn\\base.py\", line 1382, in wrapper\n",
      "    estimator._validate_params()\n",
      "  File \"c:\\Users\\aksha\\AppData\\Local\\Programs\\Python\\Python312\\Lib\\site-packages\\sklearn\\base.py\", line 436, in _validate_params\n",
      "    validate_parameter_constraints(\n",
      "  File \"c:\\Users\\aksha\\AppData\\Local\\Programs\\Python\\Python312\\Lib\\site-packages\\sklearn\\utils\\_param_validation.py\", line 98, in validate_parameter_constraints\n",
      "    raise InvalidParameterError(\n",
      "sklearn.utils._param_validation.InvalidParameterError: The 'max_features' parameter of RandomForestRegressor must be an int in the range [1, inf), a float in the range (0.0, 1.0], a str among {'sqrt', 'log2'} or None. Got 'auto' instead.\n",
      "\n",
      "  warnings.warn(some_fits_failed_message, FitFailedWarning)\n",
      "c:\\Users\\aksha\\AppData\\Local\\Programs\\Python\\Python312\\Lib\\site-packages\\sklearn\\model_selection\\_search.py:1108: UserWarning: One or more of the test scores are non-finite: [       nan        nan        nan 0.86650208 0.8668369  0.86761338]\n",
      "  warnings.warn(\n"
     ]
    },
    {
     "name": "stdout",
     "output_type": "stream",
     "text": [
      "best params for RandomForestRegressor is :  {'max_features': 'sqrt', 'n_estimators': 200}\n",
      "best params for RandomForestRegressor() is :  0.8676133820147115\n",
      "==================== \n",
      "\n",
      "\n"
     ]
    }
   ],
   "source": [
    "# hyperparameter tuning\n",
    "\n",
    "for i,j in models.items():\n",
    "    print('training ',i,'....')\n",
    "    grid_search = GridSearchCV(j,param_grid=param_grids[i],cv=5,verbose=1,n_jobs=-1,scoring='r2')\n",
    "\n",
    "    grid_search.fit(xtrain_trans,ytrain)\n",
    "\n",
    "    print(f'best params for {i} is : ',grid_search.best_params_)\n",
    "    print(f'best params for {j} is : ',grid_search.best_score_)\n",
    "\n",
    "    print('='*20,'\\n\\n')"
   ]
  },
  {
   "cell_type": "code",
   "execution_count": 21,
   "metadata": {},
   "outputs": [],
   "source": [
    "best_estimator = grid_search.best_estimator_"
   ]
  },
  {
   "cell_type": "code",
   "execution_count": 22,
   "metadata": {},
   "outputs": [],
   "source": [
    "ypred = best_estimator.predict(xtest_trans)"
   ]
  },
  {
   "cell_type": "code",
   "execution_count": 23,
   "metadata": {},
   "outputs": [
    {
     "name": "stdout",
     "output_type": "stream",
     "text": [
      "mean squared error 48832930.62228638\n",
      "mean_absolute_error 4711.191911513683\n",
      "r2_score 0.8738315890170725\n"
     ]
    }
   ],
   "source": [
    "print('mean squared error',mean_squared_error(ytest,ypred))\n",
    "print('mean_absolute_error',mean_absolute_error(ytest,ypred))\n",
    "print('r2_score',r2_score(ytest,ypred))"
   ]
  },
  {
   "cell_type": "code",
   "execution_count": null,
   "metadata": {},
   "outputs": [],
   "source": [
    "mlflow.end_run()"
   ]
  }
 ],
 "metadata": {
  "kernelspec": {
   "display_name": "Python 3",
   "language": "python",
   "name": "python3"
  },
  "language_info": {
   "codemirror_mode": {
    "name": "ipython",
    "version": 3
   },
   "file_extension": ".py",
   "mimetype": "text/x-python",
   "name": "python",
   "nbconvert_exporter": "python",
   "pygments_lexer": "ipython3",
   "version": "3.12.2"
  }
 },
 "nbformat": 4,
 "nbformat_minor": 2
}
